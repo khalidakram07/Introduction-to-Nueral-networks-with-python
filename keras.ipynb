{
  "nbformat": 4,
  "nbformat_minor": 0,
  "metadata": {
    "colab": {
      "name": "keras.ipynb",
      "provenance": [],
      "mount_file_id": "1ThQ304hxn49_zf0wGHOK7dDdxCzXfclj",
      "authorship_tag": "ABX9TyOig270hAEIb6vUYtCUwVQr",
      "include_colab_link": true
    },
    "kernelspec": {
      "name": "python3",
      "display_name": "Python 3"
    },
    "accelerator": "GPU"
  },
  "cells": [
    {
      "cell_type": "markdown",
      "metadata": {
        "id": "view-in-github",
        "colab_type": "text"
      },
      "source": [
        "<a href=\"https://colab.research.google.com/github/khalidakram07/Introduction-to-Nueral-networks-with-python/blob/master/keras.ipynb\" target=\"_parent\"><img src=\"https://colab.research.google.com/assets/colab-badge.svg\" alt=\"Open In Colab\"/></a>"
      ]
    },
    {
      "cell_type": "code",
      "metadata": {
        "colab": {
          "base_uri": "https://localhost:8080/"
        },
        "id": "TozF6Nb9laNh",
        "outputId": "9d6ad524-6110-4806-905c-ec073196373b"
      },
      "source": [
        "import pandas as pd\r\n",
        "from sklearn.preprocessing import MinMaxScaler\r\n",
        "\r\n",
        "# Load training data set from CSV file\r\n",
        "training_data_df = pd.read_csv(\"sales_data_training.csv\")\r\n",
        "\r\n",
        "# Load testing data set from CSV file\r\n",
        "test_data_df = pd.read_csv(\"sales_data_test.csv\")\r\n",
        "\r\n",
        "# Data needs to be scaled to a small range like 0 to 1 for the neural\r\n",
        "# network to work well.\r\n",
        "scaler = MinMaxScaler(feature_range=(0, 1))\r\n",
        "\r\n",
        "# Scale both the training inputs and outputs\r\n",
        "scaled_training = scaler.fit_transform(training_data_df)\r\n",
        "scaled_testing = scaler.transform(test_data_df)\r\n",
        "\r\n",
        "# Print out the adjustment that the scaler applied to the total_earnings column of data\r\n",
        "print(\"Note: total_earnings values were scaled by multiplying by {:.10f} and adding {:.6f}\".format(scaler.scale_[8], scaler.min_[8]))\r\n",
        "\r\n",
        "# Create new pandas DataFrame objects from the scaled data\r\n",
        "scaled_training_df = pd.DataFrame(scaled_training, columns=training_data_df.columns.values)\r\n",
        "scaled_testing_df = pd.DataFrame(scaled_testing, columns=test_data_df.columns.values)\r\n",
        "\r\n",
        "# Save scaled data dataframes to new CSV files\r\n",
        "scaled_training_df.to_csv(\"sales_data_training_scaled.csv\", index=False)\r\n",
        "scaled_testing_df.to_csv(\"sales_data_testing_scaled.csv\", index=False)"
      ],
      "execution_count": 1,
      "outputs": [
        {
          "output_type": "stream",
          "text": [
            "Note: total_earnings values were scaled by multiplying by 0.0000036968 and adding -0.115913\n"
          ],
          "name": "stdout"
        }
      ]
    },
    {
      "cell_type": "code",
      "metadata": {
        "id": "gfmtIDfzmIi_"
      },
      "source": [
        "import pandas as pd\r\n",
        "from keras.models import Sequential\r\n",
        "from keras.layers import *\r\n",
        "\r\n",
        "training_data_df = pd.read_csv(\"sales_data_training_scaled.csv\")\r\n",
        "\r\n",
        "X = training_data_df.drop('total_earnings', axis=1).values\r\n",
        "Y = training_data_df[['total_earnings']].values\r\n",
        "\r\n",
        "# Define the model\r\n",
        "model = Sequential()\r\n",
        "model.add(Dense(50, input_dim=9, activation='relu'))\r\n",
        "model.add(Dense(100, activation='relu'))\r\n",
        "model.add(Dense(50, activation='relu'))\r\n",
        "model.add(Dense(1, activation='linear'))\r\n",
        "model.compile(loss=\"mean_squared_error\", optimizer=\"adam\")"
      ],
      "execution_count": 2,
      "outputs": []
    },
    {
      "cell_type": "code",
      "metadata": {
        "colab": {
          "base_uri": "https://localhost:8080/"
        },
        "id": "7t4l0-rHyrcK",
        "outputId": "1b8b5181-760e-4ad4-9610-99af0f47b9e7"
      },
      "source": [
        "import pandas as pd\r\n",
        "from keras.models import Sequential\r\n",
        "from keras.layers import *\r\n",
        "\r\n",
        "training_data_df = pd.read_csv(\"sales_data_training_scaled.csv\")\r\n",
        "\r\n",
        "X = training_data_df.drop('total_earnings', axis=1).values\r\n",
        "Y = training_data_df[['total_earnings']].values\r\n",
        "\r\n",
        "# Define the model\r\n",
        "model = Sequential()\r\n",
        "model.add(Dense(40, input_dim=9, activation='relu'))\r\n",
        "model.add(Dense(50, activation='relu'))\r\n",
        "model.add(Dense(25, activation='relu'))\r\n",
        "model.add(Dense(1, activation='linear'))\r\n",
        "model.compile(loss='mean_squared_error', optimizer='adam')\r\n",
        "\r\n",
        "# Train the model\r\n",
        "model.fit(\r\n",
        "    X,\r\n",
        "    Y,\r\n",
        "    epochs=50,\r\n",
        "    shuffle=True,\r\n",
        "    verbose=2\r\n",
        ")\r\n",
        "\r\n",
        "# Load the separate test data set\r\n",
        "test_data_df = pd.read_csv(\"sales_data_test_scaled.csv\")\r\n",
        "\r\n",
        "X_test = test_data_df.drop('total_earnings', axis=1).values\r\n",
        "Y_test = test_data_df[['total_earnings']].values\r\n",
        "\r\n",
        "test_error_rate = model.evaluate(X_test, Y_test, verbose=0)\r\n",
        "print(\"The mean squared error (MSE) for the test data set is: {}\".format(test_error_rate))"
      ],
      "execution_count": 4,
      "outputs": [
        {
          "output_type": "stream",
          "text": [
            "Epoch 1/50\n",
            "32/32 - 0s - loss: 0.0221\n",
            "Epoch 2/50\n",
            "32/32 - 0s - loss: 0.0038\n",
            "Epoch 3/50\n",
            "32/32 - 0s - loss: 0.0013\n",
            "Epoch 4/50\n",
            "32/32 - 0s - loss: 8.3139e-04\n",
            "Epoch 5/50\n",
            "32/32 - 0s - loss: 5.5725e-04\n",
            "Epoch 6/50\n",
            "32/32 - 0s - loss: 3.8739e-04\n",
            "Epoch 7/50\n",
            "32/32 - 0s - loss: 3.1500e-04\n",
            "Epoch 8/50\n",
            "32/32 - 0s - loss: 2.6300e-04\n",
            "Epoch 9/50\n",
            "32/32 - 0s - loss: 2.5261e-04\n",
            "Epoch 10/50\n",
            "32/32 - 0s - loss: 2.0438e-04\n",
            "Epoch 11/50\n",
            "32/32 - 0s - loss: 1.7024e-04\n",
            "Epoch 12/50\n",
            "32/32 - 0s - loss: 1.6622e-04\n",
            "Epoch 13/50\n",
            "32/32 - 0s - loss: 1.3697e-04\n",
            "Epoch 14/50\n",
            "32/32 - 0s - loss: 1.3165e-04\n",
            "Epoch 15/50\n",
            "32/32 - 0s - loss: 1.3019e-04\n",
            "Epoch 16/50\n",
            "32/32 - 0s - loss: 1.1254e-04\n",
            "Epoch 17/50\n",
            "32/32 - 0s - loss: 9.4054e-05\n",
            "Epoch 18/50\n",
            "32/32 - 0s - loss: 1.0231e-04\n",
            "Epoch 19/50\n",
            "32/32 - 0s - loss: 8.8326e-05\n",
            "Epoch 20/50\n",
            "32/32 - 0s - loss: 8.7052e-05\n",
            "Epoch 21/50\n",
            "32/32 - 0s - loss: 8.9556e-05\n",
            "Epoch 22/50\n",
            "32/32 - 0s - loss: 6.4216e-05\n",
            "Epoch 23/50\n",
            "32/32 - 0s - loss: 6.7130e-05\n",
            "Epoch 24/50\n",
            "32/32 - 0s - loss: 5.8523e-05\n",
            "Epoch 25/50\n",
            "32/32 - 0s - loss: 6.0757e-05\n",
            "Epoch 26/50\n",
            "32/32 - 0s - loss: 5.2828e-05\n",
            "Epoch 27/50\n",
            "32/32 - 0s - loss: 4.9780e-05\n",
            "Epoch 28/50\n",
            "32/32 - 0s - loss: 4.3026e-05\n",
            "Epoch 29/50\n",
            "32/32 - 0s - loss: 5.3956e-05\n",
            "Epoch 30/50\n",
            "32/32 - 0s - loss: 4.7557e-05\n",
            "Epoch 31/50\n",
            "32/32 - 0s - loss: 3.6668e-05\n",
            "Epoch 32/50\n",
            "32/32 - 0s - loss: 4.4274e-05\n",
            "Epoch 33/50\n",
            "32/32 - 0s - loss: 3.8765e-05\n",
            "Epoch 34/50\n",
            "32/32 - 0s - loss: 4.7781e-05\n",
            "Epoch 35/50\n",
            "32/32 - 0s - loss: 3.3872e-05\n",
            "Epoch 36/50\n",
            "32/32 - 0s - loss: 2.7066e-05\n",
            "Epoch 37/50\n",
            "32/32 - 0s - loss: 3.9232e-05\n",
            "Epoch 38/50\n",
            "32/32 - 0s - loss: 2.8957e-05\n",
            "Epoch 39/50\n",
            "32/32 - 0s - loss: 2.6513e-05\n",
            "Epoch 40/50\n",
            "32/32 - 0s - loss: 2.8040e-05\n",
            "Epoch 41/50\n",
            "32/32 - 0s - loss: 3.7122e-05\n",
            "Epoch 42/50\n",
            "32/32 - 0s - loss: 2.9122e-05\n",
            "Epoch 43/50\n",
            "32/32 - 0s - loss: 3.2243e-05\n",
            "Epoch 44/50\n",
            "32/32 - 0s - loss: 2.7615e-05\n",
            "Epoch 45/50\n",
            "32/32 - 0s - loss: 2.2850e-05\n",
            "Epoch 46/50\n",
            "32/32 - 0s - loss: 2.8357e-05\n",
            "Epoch 47/50\n",
            "32/32 - 0s - loss: 3.3177e-05\n",
            "Epoch 48/50\n",
            "32/32 - 0s - loss: 4.6246e-05\n",
            "Epoch 49/50\n",
            "32/32 - 0s - loss: 3.6733e-05\n",
            "Epoch 50/50\n",
            "32/32 - 0s - loss: 2.6694e-05\n",
            "The mean squared error (MSE) for the test data set is: 0.00012835970846936107\n"
          ],
          "name": "stdout"
        }
      ]
    },
    {
      "cell_type": "code",
      "metadata": {
        "colab": {
          "base_uri": "https://localhost:8080/"
        },
        "id": "0wwC8S9303KJ",
        "outputId": "38a69bae-835b-4645-df85-73dbde939bac"
      },
      "source": [
        "# Load the data we make to use to make a prediction\r\n",
        "X = pd.read_csv(\"proposed_new_product.csv\").values\r\n",
        "\r\n",
        "# Make a prediction with the neural network\r\n",
        "prediction = model.predict(X)\r\n",
        "\r\n",
        "# Grab just the first element of the first prediction (since that's the only have one)\r\n",
        "prediction = prediction[0][0]\r\n",
        "\r\n",
        "# Re-scale the data from the 0-to-1 range back to dollars\r\n",
        "# These constants are from when the data was originally scaled down to the 0-to-1 range\r\n",
        "prediction = prediction + 0.115913\r\n",
        "prediction = prediction / 0.0000036968 \r\n",
        "\r\n",
        "print(\"Earnings Prediction for Proposed Product - ${}\".format(prediction))\r\n"
      ],
      "execution_count": 8,
      "outputs": [
        {
          "output_type": "stream",
          "text": [
            "Earnings Prediction for Proposed Product - $264838.1579332449\n"
          ],
          "name": "stdout"
        }
      ]
    },
    {
      "cell_type": "code",
      "metadata": {
        "colab": {
          "base_uri": "https://localhost:8080/"
        },
        "id": "wrKNjNdB2YQn",
        "outputId": "99447dcf-8565-4f41-f436-6c7959401c1b"
      },
      "source": [
        "# Save the model to disk\r\n",
        "model.save(\"trained_model.h5\")\r\n",
        "print(\"Model saved to disk.\")"
      ],
      "execution_count": 7,
      "outputs": [
        {
          "output_type": "stream",
          "text": [
            "Model saved to disk.\n"
          ],
          "name": "stdout"
        }
      ]
    },
    {
      "cell_type": "code",
      "metadata": {
        "id": "0gKIOn-P3teo"
      },
      "source": [
        ""
      ],
      "execution_count": null,
      "outputs": []
    }
  ]
}